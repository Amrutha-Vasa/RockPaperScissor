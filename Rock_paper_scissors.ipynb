{
  "nbformat": 4,
  "nbformat_minor": 0,
  "metadata": {
    "colab": {
      "name": "Rock paper scissors.ipynb",
      "provenance": [],
      "collapsed_sections": []
    },
    "kernelspec": {
      "display_name": "Python 3",
      "name": "python3"
    }
  },
  "cells": [
    {
      "cell_type": "code",
      "metadata": {
        "colab": {
          "base_uri": "https://localhost:8080/"
        },
        "id": "jOkP-U7Rs_Lv",
        "outputId": "048243ab-008b-4ee3-d078-9cd1b64930df"
      },
      "source": [
        "from random import randint\n",
        "\n",
        "#create a list of play options \n",
        "t = [\"Rock\",\"Paper\",\"Scissors\"]\n",
        "\n",
        "#assign a random play to the computer\n",
        "computer = t[randint(0,2)]\n",
        "\n",
        "#set user to False\n",
        "user = False\n",
        "\n",
        "while user == False:\n",
        "#set user to True\n",
        "    user  = input(\"Enter any one value  Rock, Paper, Scissors?\") \n",
        "    if user  == computer:\n",
        "         print(\"Tie!\")\n",
        "    elif user == \"Rock\":\n",
        "       if computer == \"Paper\":\n",
        "           print(\"You lose!\", computer, \"covers\", User)\n",
        "       else:\n",
        "          print(\"You win!\",user, \"smashes\", computer )\n",
        "    elif user == \"Paper\":\n",
        "       if computer == \"Scissors\":\n",
        "          print(\"You lose!\",computer,\"cuts\", user)\n",
        "       else:\n",
        "         print(\"You win!\",user, \"covers\",computer)\n",
        "    elif user == \"Scissors\":\n",
        "       if computer == \"Rock\":\n",
        "          print(\"You lose!\",computer,\"smashes\", user)\n",
        "       else:\n",
        "         print(\"You win!\",user, \"cuts\",computer)\n",
        "\n",
        "    else:\n",
        "         print(\"That's not a valid play. check your spelling.\" )\n",
        " "
      ],
      "execution_count": null,
      "outputs": [
        {
          "output_type": "stream",
          "name": "stdout",
          "text": [
            "Enter any one value  Rock, Paper, Scissors?Rock\n",
            "You win! Rock smashes Scissors\n"
          ]
        }
      ]
    },
    {
      "cell_type": "code",
      "metadata": {
        "id": "1gg5dW4MwLLa"
      },
      "source": [
        ""
      ],
      "execution_count": null,
      "outputs": []
    }
  ]
}